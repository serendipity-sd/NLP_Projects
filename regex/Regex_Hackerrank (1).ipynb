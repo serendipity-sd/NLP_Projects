{
 "cells": [
  {
   "cell_type": "code",
   "execution_count": 1,
   "metadata": {},
   "outputs": [],
   "source": [
    "import re\n"
   ]
  },
  {
   "cell_type": "markdown",
   "metadata": {},
   "source": [
    "# Q.You have a test string . Your task is to write a regular expression that matches only and exactly strings of form:  #### adf.afd.adsf.asd,  where each variable  #### a,d,f,a,f,d,a,d,s,f,a,s,d   can be any single character except the newline.\n",
    "\n",
    "Note.\n",
    "1. If you want to match (.) in the test string, you need to escape the dot by using a slash \\..\n",
    "2. This is a regex only challenge. You are not required to write any code. You only have to fill in the regex pattern in the blank (_________)."
   ]
  },
  {
   "cell_type": "code",
   "execution_count": 2,
   "metadata": {},
   "outputs": [
    {
     "name": "stdout",
     "output_type": "stream",
     "text": [
      "true\n"
     ]
    }
   ],
   "source": [
    "regex_pattern = r\"^...\\....\\....\\....$\"\n",
    "import re\n",
    "\n",
    "test_string = '123.456.abc.def'\n",
    "\n",
    "match = re.match(regex_pattern, test_string) is not None\n",
    "\n",
    "print(str(match).lower())"
   ]
  },
  {
   "cell_type": "markdown",
   "metadata": {},
   "source": [
    "# Q2. You have a test string S . Your task is to match the pattern xxXxxXxxxx. Here x denotes a digit character, and X denotes a non-digit character.\n",
    "\n"
   ]
  },
  {
   "cell_type": "code",
   "execution_count": 5,
   "metadata": {},
   "outputs": [
    {
     "name": "stdout",
     "output_type": "stream",
     "text": [
      "12-12-5555\n",
      "true\n"
     ]
    }
   ],
   "source": [
    "Regex_Pattern = r\"(\\d{2}\\D){2}\\d{4}\"\n",
    "\n",
    "import re\n",
    "\n",
    "print(str(bool(re.match(Regex_Pattern, input()))).lower())\n",
    "\n",
    "\n",
    "# Q. Any thoughts on why \\d+ does not work\n",
    "\n",
    "# \\d+ means one or more digits, while you need to match exactly 2, 2 and 4 digits respectively here.\n",
    "# \\d{2} means: match exactly 2 digits. This notation makes your regex more readable than \\d\\d in my opinion.\n"
   ]
  },
  {
   "cell_type": "markdown",
   "metadata": {},
   "source": [
    "# Q3. You have a test string s. Your task is to match the pattern XXxXXxXX. Here, x denotes whitespace characters, and X denotes non-white space characters."
   ]
  },
  {
   "cell_type": "code",
   "execution_count": 6,
   "metadata": {},
   "outputs": [
    {
     "name": "stdout",
     "output_type": "stream",
     "text": [
      "44 77 88\n",
      "true\n"
     ]
    }
   ],
   "source": [
    "Regex_Pattern = r\"(\\S{2}\\s){2}\\S{2}\"\n",
    "\n",
    "import re\n",
    "\n",
    "print(str(bool(re.search(Regex_Pattern, input()))).lower())"
   ]
  },
  {
   "cell_type": "markdown",
   "metadata": {},
   "source": [
    "# Q4. You have a test string s . Your task is to match the pattern  xxXxxxxxxxXxx. Here x denotes any word character and  X denotes any non-word character. "
   ]
  },
  {
   "cell_type": "code",
   "execution_count": 7,
   "metadata": {},
   "outputs": [
    {
     "name": "stdout",
     "output_type": "stream",
     "text": [
      "aaa adsfasasdf asd\n",
      "true\n"
     ]
    }
   ],
   "source": [
    "Regex_Pattern = r\"\\w{3}\\W\\w{10}\\W\\w{3}\"\n",
    "\n",
    "import re\n",
    "\n",
    "print(str(bool(re.search(Regex_Pattern, input()))).lower())"
   ]
  },
  {
   "cell_type": "markdown",
   "metadata": {},
   "source": [
    "# Q5. You have a test string S. Your task is to match the pattern Xxxxx. Here x  denotes a word character, and X denotes a digit. S  must start with a digit X and end with . symbol. S should be 6 characters long."
   ]
  },
  {
   "cell_type": "code",
   "execution_count": 8,
   "metadata": {},
   "outputs": [
    {
     "name": "stdout",
     "output_type": "stream",
     "text": [
      "5asdf\n",
      "true\n"
     ]
    }
   ],
   "source": [
    "Regex_Pattern = r\"^\\d\\w{4}\"\n",
    "\n",
    "import re\n",
    "\n",
    "print(str(bool(re.search(Regex_Pattern, input()))).lower())"
   ]
  },
  {
   "cell_type": "markdown",
   "metadata": {},
   "source": [
    "# Q6.You have a test string S. Your task is to write a regex that will match S with following conditions:\n",
    "## S must be of length: 6\n",
    "## First character: 1, 2 or 3\n",
    "## Second character: 1, 2 or 0\n",
    "## Third character: x, s or 0\n",
    "## Fourth character: 3, 0 , A or a\n",
    "## Fifth character: x, s or u\n",
    "## Sixth character: . or ,\n"
   ]
  },
  {
   "cell_type": "code",
   "execution_count": 9,
   "metadata": {},
   "outputs": [
    {
     "name": "stdout",
     "output_type": "stream",
     "text": [
      "1203x.\n",
      "true\n"
     ]
    }
   ],
   "source": [
    "Regex_Pattern = r'^[123]{1}[120]{1}[xs0]{1}[30Aa]{1}[xsu]{1}[\\.\\,]{1}$'\n",
    "\n",
    "import re\n",
    "\n",
    "print(str(bool(re.search(Regex_Pattern, input()))).lower())\n",
    "\n",
    "#1203x."
   ]
  },
  {
   "cell_type": "markdown",
   "metadata": {},
   "source": [
    " # Q7. You have a test string S. Your task is to write a regex that will match  with the following conditions:\n",
    "\n",
    "### S must be of length 6.\n",
    "### First character should not be a digit (0-9  ).\n",
    "### Second character should not be a lowercase vowel ( a,e,i,o,u  ).\n",
    "### Third character should not be b, c, D or F.\n",
    "### Fourth character should not be a whitespace character ( \\r, \\n, \\t, \\f or space).\n",
    "### Fifth character should not be a uppercase vowel ( A,E,I,O,U  ).\n",
    "### Sixth character should not be a . or , symbol."
   ]
  },
  {
   "cell_type": "code",
   "execution_count": 11,
   "metadata": {},
   "outputs": [
    {
     "name": "stdout",
     "output_type": "stream",
     "text": [
      "think?\n",
      "true\n"
     ]
    }
   ],
   "source": [
    "Regex_Pattern = r'^[^0-9]{1}[^aeiou]{1}[^bcDF]{1}[^\\s]{1}[^AEIOU]{1}[^\\.,]{1}'\n",
    "\n",
    "import re\n",
    "\n",
    "print(str(bool(re.search(Regex_Pattern, input()))).lower())\n",
    "\n",
    "#think?"
   ]
  },
  {
   "cell_type": "markdown",
   "metadata": {},
   "source": [
    "# Q8. Write a RegEx that will match a string satisfying the following conditions:\n",
    "\n",
    "## The string's length is .\n",
    "## The first character must be a lowercase English alphabetic character.\n",
    "## The second character must be a positive digit. Note that we consider zero to be neither positive nor negative.\n",
    "## The third character must not be a lowercase English alphabetic character.\n",
    "## The fourth character must not be an uppercase English alphabetic character.\n",
    "## The fifth character must be an uppercase English alphabetic character.\n"
   ]
  },
  {
   "cell_type": "code",
   "execution_count": 12,
   "metadata": {
    "scrolled": true
   },
   "outputs": [
    {
     "name": "stdout",
     "output_type": "stream",
     "text": [
      "h4CkR\n",
      "true\n"
     ]
    }
   ],
   "source": [
    "Regex_Pattern = r'^[a-z]{1}[1-9]{1}[^a-z]{1}[^A-Z]{1}[A-Z]'\t# Do not delete 'r'.\n",
    "\n",
    "import re\n",
    "\n",
    "print(str(bool(re.search(Regex_Pattern, input()))).lower())\n",
    "\n",
    "#h4CkR"
   ]
  },
  {
   "cell_type": "markdown",
   "metadata": {},
   "source": [
    "# Q9. You have a test string S. Your task is to write a regex that will match S using the following conditions:\n",
    "## S must be of length equal to 45.\n",
    "## The first 40 characters should consist of letters(both lowercase and uppercase), or of even digits.\n",
    "## The last 5 characters should consist of odd digits or whitespace characters.\n"
   ]
  },
  {
   "cell_type": "code",
   "execution_count": 15,
   "metadata": {},
   "outputs": [
    {
     "name": "stdout",
     "output_type": "stream",
     "text": [
      "sdf\n",
      "false\n"
     ]
    }
   ],
   "source": [
    "#  https://www.hackerrank.com/challenges/matching-x-repetitions/problem\n",
    "\n",
    "import re\n",
    "print(str(bool(re.search(Regex_Pattern, input()))).lower())\n",
    "\n",
    "Regex_Pattern = r'^[A-Za-z02468]{40}[\\s13579]{5}$'\n",
    "\n",
    "#2222222222aaaaaaaaaa2222222222aaaaaaaaaa13 57\n"
   ]
  },
  {
   "cell_type": "markdown",
   "metadata": {},
   "source": [
    "# Q10. You have a test string S. Your task is to write a regex that will match S using the following conditions:\n",
    "\n",
    "## S should begin with 1 or 2 digits.\n",
    "## After that,  S should have 3 or more letters (both lowercase and uppercase).\n",
    "## Then S should end with up to  3. symbol(s). You can end with 0 to 3 . symbol(s), inclusively."
   ]
  },
  {
   "cell_type": "code",
   "execution_count": 16,
   "metadata": {},
   "outputs": [
    {
     "name": "stdout",
     "output_type": "stream",
     "text": [
      "3threeormorealphabets.\n",
      "true\n"
     ]
    }
   ],
   "source": [
    "Regex_Pattern = r'^\\d{1,2}[a-zA-Z]{3,}\\.{0,3}$'\n",
    "\n",
    "import re\n",
    "\n",
    "print(str(bool(re.search(Regex_Pattern, input()))).lower())\n",
    "\n",
    "#3threeormorealphabets."
   ]
  },
  {
   "cell_type": "markdown",
   "metadata": {},
   "source": [
    "# Q11. You have a test string S.Your task is to write a regex that will match S using the following conditions:\n",
    "\n",
    "## S should begin with 2 or more digits.\n",
    "## After that, S should have 0 or more lowercase letters.\n",
    "## S should end with 0 or more uppercase letters"
   ]
  },
  {
   "cell_type": "code",
   "execution_count": 17,
   "metadata": {},
   "outputs": [
    {
     "name": "stdout",
     "output_type": "stream",
     "text": [
      "66\n",
      "true\n"
     ]
    }
   ],
   "source": [
    "# https://www.hackerrank.com/challenges/matching-zero-or-more-repetitions/problem?h_r=next-challenge&h_v=zen\n",
    "Regex_Pattern = r'^\\d{2,}[a-z]*[A-Z]*$'\t# Do not delete 'r'.\n",
    "\n",
    "import re\n",
    "\n",
    "print(str(bool(re.search(Regex_Pattern, input()))).lower())"
   ]
  },
  {
   "cell_type": "markdown",
   "metadata": {},
   "source": [
    "# Q12. You have a test string S. Your task is to write a regex that will match  using the following conditions:\n",
    "\n",
    "## S should begin with 1 or more digits.\n",
    "## After that, S should have 1 or more uppercase letters.\n",
    "## S should end with 1 or more lowercase letters.\n"
   ]
  },
  {
   "cell_type": "code",
   "execution_count": 18,
   "metadata": {},
   "outputs": [
    {
     "name": "stdout",
     "output_type": "stream",
     "text": [
      "1Qa\n",
      "true\n"
     ]
    }
   ],
   "source": [
    "# https://www.hackerrank.com/challenges/matching-one-or-more-repititions/problem?h_r=next-challenge&h_v=zen&h_r=next-challenge&h_v=zen\n",
    "\n",
    "Regex_Pattern = r'^\\d+[A-Z]+[a-z]$'\t# Do not delete 'r'.\n",
    "\n",
    "import re\n",
    "\n",
    "print(str(bool(re.search(Regex_Pattern, input()))).lower())\n",
    "\n",
    "#1Qa"
   ]
  },
  {
   "cell_type": "markdown",
   "metadata": {},
   "source": [
    "# Q13. Write a RegEx to match a test string, , under the following conditions:\n",
    "\n",
    "## S should consist of only lowercase and uppercase letters (no numbers or symbols).\n",
    "## S should end in s."
   ]
  },
  {
   "cell_type": "code",
   "execution_count": 19,
   "metadata": {},
   "outputs": [
    {
     "name": "stdout",
     "output_type": "stream",
     "text": [
      "Kites\n",
      "true\n"
     ]
    }
   ],
   "source": [
    "#https://www.hackerrank.com/challenges/matching-ending-items/problem?h_r=next-challenge&h_v=zen&h_r=next-challenge&h_v=zen&h_r=next-challenge&h_v=zen\n",
    "Regex_Pattern = r'^[a-zA-Z]*s$'\t# Do not delete 'r'.\n",
    "\n",
    "import re\n",
    "\n",
    "print(str(bool(re.search(Regex_Pattern, input()))).lower())\n",
    "\n",
    "#Kites"
   ]
  },
  {
   "cell_type": "markdown",
   "metadata": {},
   "source": [
    "# Q14. You have a test String S. Your task is to write a regex which will match S with the following condition:\n",
    "## S should have 3 or more consecutive repetitions of ok."
   ]
  },
  {
   "cell_type": "code",
   "execution_count": 21,
   "metadata": {},
   "outputs": [
    {
     "name": "stdout",
     "output_type": "stream",
     "text": [
      "okokok df\n",
      "true\n"
     ]
    }
   ],
   "source": [
    "Regex_Pattern = r'[okokok]'\n",
    "\n",
    "import re\n",
    "\n",
    "print(str(bool(re.search(Regex_Pattern, input()))).lower())"
   ]
  },
  {
   "cell_type": "markdown",
   "metadata": {},
   "source": [
    "# Q15. Given a test string,s , write a RegEx that matches s under the following conditions:\n",
    "\n",
    "## s must start with Mr., Mrs., Ms., Dr. or Er..\n",
    "## The rest of the string must contain only one or more English alphabetic letters (upper and lowercase)."
   ]
  },
  {
   "cell_type": "code",
   "execution_count": 22,
   "metadata": {},
   "outputs": [
    {
     "name": "stdout",
     "output_type": "stream",
     "text": [
      "sdf\n",
      "false\n"
     ]
    }
   ],
   "source": [
    "Regex_Pattern = r'^(Mr|Mrs|Ms|Dr|Er)[.][a-zA-Z]+'\n",
    "\n",
    "import re\n",
    "\n",
    "print(str(bool(re.search(Regex_Pattern, input()))).lower())\n",
    "\n",
    "\n",
    "# @ test cases fauled\n"
   ]
  },
  {
   "cell_type": "markdown",
   "metadata": {},
   "source": [
    "# Q16. You have a test String S. Your task is to write a regex which will match word starting with vowel (a,e,i,o, u, A, E, I , O or U).\n",
    "## The matched word can be of any length. The matched word should consist of letters (lowercase and uppercase both) only.\n",
    "## The matched word must start and end with a word boundary."
   ]
  },
  {
   "cell_type": "code",
   "execution_count": null,
   "metadata": {},
   "outputs": [],
   "source": [
    "Regex_Pattern = r''\t# Do not delete 'r'.\n",
    "\n",
    "import re\n",
    "\n",
    "print(str(bool(re.search(Regex_Pattern, input()))).lower())"
   ]
  },
  {
   "cell_type": "markdown",
   "metadata": {},
   "source": [
    "# Q17. You have a test string S. Your task is to write a regex that will match S with the following conditions:\n",
    "\n",
    " ## S must be of length: 20\n",
    " ## 1st character: lowercase letter.\n",
    " ## 2nd character: word character.\n",
    " ## 3rd character: whitespace character.\n",
    " ## 4th character: non word character.\n",
    " ## 5th character: digit.\n",
    " ## 6th character: non digit.\n",
    " ## 7th character: uppercase letter.\n",
    " ## 8th character: letter (either lowercase or uppercase).\n",
    " ## 9th character: vowel (a, e, i , o , u, A, E, I, O or U).\n",
    " ## 10th character: non whitespace character.\n",
    " ## 11th character: should be same as 1st character.\n",
    " ## 12th character: should be same as 2nd character.\n",
    " ## 13th character: should be same as 3rd character.\n",
    " ## 14th character: should be same as 4th character.\n",
    " ## 15th character: should be same as 5th character.\n",
    " ## 16th character: should be same as 6th character.\n",
    "## 17th character: should be same as 7th character.\n",
    "## 18th character: should be same as 8th character.\n",
    "## 19th character: should be same as 9th character.\n",
    "## 20th character: should be same as 10th character."
   ]
  },
  {
   "cell_type": "code",
   "execution_count": null,
   "metadata": {},
   "outputs": [],
   "source": [
    "Regex_Pattern = r'([a-z]\\w\\s\\W\\d\\D[A-Z][a-zA-Z][aeiouAEIOU]\\S)\\1'\n",
    "\n",
    "import re\n",
    "\n",
    "print(str(bool(re.search(Regex_Pattern, input()))).lower())\n",
    "#ab #1?AZa$ab #1?AZa$\n",
    "#https://www.hackerrank.com/challenges/matching-same-text-again-again/problem"
   ]
  },
  {
   "cell_type": "markdown",
   "metadata": {},
   "source": [
    "# Q18. You have a test string S. Your task is to write a regex which will match S, with following condition(s):\n",
    "\n",
    "## Sconsists of 8 digits.\n",
    "## S may have \"-\" separator such that string S gets divided in 4 parts, with each part having exactly two digits. (Eg. 12-34-56-78)"
   ]
  },
  {
   "cell_type": "code",
   "execution_count": 23,
   "metadata": {},
   "outputs": [
    {
     "name": "stdout",
     "output_type": "stream",
     "text": [
      "12\n",
      "false\n"
     ]
    }
   ],
   "source": [
    "Regex_Pattern = r\"^\\d{8}|^(\\d{2}-){3}(\\d{2})$\"\t# Do not delete 'r'.\n",
    "\n",
    "import re\n",
    "\n",
    "print(str(bool(re.search(Regex_Pattern, input()))).lower())\n",
    "\n",
    "# https://www.hackerrank.com/challenges/backreferences-to-failed-groups/problem"
   ]
  },
  {
   "cell_type": "markdown",
   "metadata": {},
   "source": [
    "# Q19. You have a test string S.Write a regex that can match all occurrences of o followed immediately by oo in S."
   ]
  },
  {
   "cell_type": "code",
   "execution_count": 25,
   "metadata": {},
   "outputs": [
    {
     "name": "stdout",
     "output_type": "stream",
     "text": [
      "goooooooooooooooooooo\n",
      "Number of matches : 18\n"
     ]
    }
   ],
   "source": [
    "Regex_Pattern = r'o(?=oo)'\t# Do not delete 'r'.\n",
    "\n",
    "import re\n",
    "\n",
    "Test_String = input()\n",
    "\n",
    "match = re.findall(Regex_Pattern, Test_String)\n",
    "\n",
    "print(\"Number of matches :\", len(match))\n",
    "      \n",
    "# gooooo!\n",
    "# https://www.hackerrank.com/challenges/positive-lookahead/problem\n",
    "    "
   ]
  },
  {
   "cell_type": "markdown",
   "metadata": {},
   "source": [
    "# Q 20. You have a test String S.Write a regex which can match all characters which are not immediately followed by that same character.\n",
    "\n",
    "### Example If S = goooo, then regex should match goooo. Because the first g is not follwed by g and the last o is not followed by o.\n",
    "\n"
   ]
  },
  {
   "cell_type": "code",
   "execution_count": 26,
   "metadata": {},
   "outputs": [
    {
     "name": "stdout",
     "output_type": "stream",
     "text": [
      "gdfasd\n",
      "Number of matches : 6\n"
     ]
    }
   ],
   "source": [
    "#gooooo\n",
    "# https://www.hackerrank.com/challenges/negative-lookahead/problem?h_r=next-challenge&h_v=zen\n",
    "\n",
    "\n",
    "Regex_Pattern = r\"(.)(?!\\1)\"\n",
    "\n",
    "import re\n",
    "\n",
    "Test_String = input()\n",
    "\n",
    "match = re.findall(Regex_Pattern, Test_String)\n",
    "\n",
    "print(\"Number of matches :\", len(match))"
   ]
  },
  {
   "cell_type": "markdown",
   "metadata": {},
   "source": [
    "# Q 21. You have a test String S . Write a regex which can match all the occurences of digit which are immediately preceded by odd digit."
   ]
  },
  {
   "cell_type": "code",
   "execution_count": 27,
   "metadata": {},
   "outputs": [
    {
     "name": "stdout",
     "output_type": "stream",
     "text": [
      "qwert\n",
      "Number of matches : 0\n"
     ]
    }
   ],
   "source": [
    "#123Go!\n",
    "# https://www.hackerrank.com/challenges/positive-lookbehind/problem?h_r=next-challenge&h_v=zen&h_r=next-challenge&h_v=zen\n",
    "\n",
    "Regex_Pattern = r\"(?<=[13579])[0-9]\"\n",
    "\n",
    "import re\n",
    "\n",
    "Test_String = input()\n",
    "\n",
    "match = re.findall(Regex_Pattern, Test_String)\n",
    "\n",
    "print(\"Number of matches :\", len(match))"
   ]
  },
  {
   "cell_type": "markdown",
   "metadata": {},
   "source": [
    "# Q 22. You have a test String S. Write a regex which can match all the occurences of characters which are not immediately preceded by vowels (a, e, i, u, o, A, E, I, O, U)."
   ]
  },
  {
   "cell_type": "code",
   "execution_count": 29,
   "metadata": {},
   "outputs": [
    {
     "name": "stdout",
     "output_type": "stream",
     "text": [
      "aeiou\n",
      "Number of matches : 1\n"
     ]
    }
   ],
   "source": [
    "# https://www.hackerrank.com/challenges/negative-lookbehind/problem?h_r=next-challenge&h_v=zen&h_r=next-challenge&h_v=zen&h_r=next-challenge&h_v=zen\n",
    "# 1o1s\n",
    "Regex_Pattern = r\"(?<![AEIOUaeiou]).\"\n",
    "# Regex_Pattern = r\"(?i)(?<![AEIOUaeiou]).\"\n",
    "#?i is used for case insensetive\n",
    "\n",
    "import re\n",
    "\n",
    "Test_String = input()\n",
    "\n",
    "match = re.findall(Regex_Pattern, Test_String)\n",
    "\n",
    "print(\"Number of matches :\", len(match))"
   ]
  },
  {
   "cell_type": "code",
   "execution_count": null,
   "metadata": {},
   "outputs": [],
   "source": []
  }
 ],
 "metadata": {
  "kernelspec": {
   "display_name": "Python 3",
   "language": "python",
   "name": "python3"
  },
  "language_info": {
   "codemirror_mode": {
    "name": "ipython",
    "version": 3
   },
   "file_extension": ".py",
   "mimetype": "text/x-python",
   "name": "python",
   "nbconvert_exporter": "python",
   "pygments_lexer": "ipython3",
   "version": "3.6.5"
  }
 },
 "nbformat": 4,
 "nbformat_minor": 2
}
