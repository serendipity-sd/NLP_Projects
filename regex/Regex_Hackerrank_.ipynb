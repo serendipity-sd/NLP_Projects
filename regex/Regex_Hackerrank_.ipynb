{
  "nbformat": 4,
  "nbformat_minor": 0,
  "metadata": {
    "kernelspec": {
      "display_name": "Python 3",
      "language": "python",
      "name": "python3"
    },
    "language_info": {
      "codemirror_mode": {
        "name": "ipython",
        "version": 3
      },
      "file_extension": ".py",
      "mimetype": "text/x-python",
      "name": "python",
      "nbconvert_exporter": "python",
      "pygments_lexer": "ipython3",
      "version": "3.6.5"
    },
    "colab": {
      "name": "Regex_Hackerrank .ipynb",
      "provenance": [],
      "include_colab_link": true
    }
  },
  "cells": [
    {
      "cell_type": "markdown",
      "metadata": {
        "id": "view-in-github",
        "colab_type": "text"
      },
      "source": [
        "<a href=\"https://colab.research.google.com/github/serendipity-sd/NLP_Projects/blob/main/regex/Regex_Hackerrank_.ipynb\" target=\"_parent\"><img src=\"https://colab.research.google.com/assets/colab-badge.svg\" alt=\"Open In Colab\"/></a>"
      ]
    },
    {
      "cell_type": "markdown",
      "metadata": {
        "id": "74KV3ZJbA_gJ"
      },
      "source": [
        "# Q.You have a test string . Your task is to write a regular expression that matches only and exactly strings of form:  #### adf.afd.adsf.asd,  where each variable  #### a,d,f,a,f,d,a,d,s,f,a,s,d   can be any single character except the newline.\n",
        "\n",
        "Note.\n",
        "1. If you want to match (.) in the test string, you need to escape the dot by using a slash \\..\n",
        "2. This is a regex only challenge. You are not required to write any code. You only have to fill in the regex pattern in the blank (_________)."
      ]
    },
    {
      "cell_type": "code",
      "metadata": {
        "colab": {
          "base_uri": "https://localhost:8080/"
        },
        "id": "dIQYa4_iA_gK",
        "outputId": "c96bb3d8-5851-439b-f2b1-9978e85b5c24"
      },
      "source": [
        "regex_pattern = r\"^...\\....\\....\\....$\"\n",
        "import re\n",
        "\n",
        "test_string = '123.456.abc.def'\n",
        "\n",
        "match = re.match(regex_pattern, test_string) is not None\n",
        "\n",
        "print(str(match).lower())"
      ],
      "execution_count": null,
      "outputs": [
        {
          "output_type": "stream",
          "text": [
            "true\n"
          ],
          "name": "stdout"
        }
      ]
    },
    {
      "cell_type": "markdown",
      "metadata": {
        "id": "YNuNxc1rA_gL"
      },
      "source": [
        "# Q2. You have a test string S . Your task is to match the pattern xxXxxXxxxx. Here x denotes a digit character, and X denotes a non-digit character.\n",
        "\n"
      ]
    },
    {
      "cell_type": "code",
      "metadata": {
        "colab": {
          "base_uri": "https://localhost:8080/"
        },
        "id": "_slOt9HcA_gM",
        "outputId": "70c322b8-3f53-4d64-c806-176e0c896a5c"
      },
      "source": [
        "Regex_Pattern = r\"(\\d{2}\\D){2}\\d{4}\"\n",
        "\n",
        "import re\n",
        "\n",
        "print(str(bool(re.match(Regex_Pattern, input()))).lower())\n",
        "\n",
        "\n",
        "# Q. Any thoughts on why \\d+ does not work\n",
        "\n",
        "# \\d+ means one or more digits, while you need to match exactly 2, 2 and 4 digits respectively here.\n",
        "# \\d{2} means: match exactly 2 digits. This notation makes your regex more readable than \\d\\d in my opinion.\n"
      ],
      "execution_count": null,
      "outputs": [
        {
          "output_type": "stream",
          "text": [
            "gfs\n",
            "false\n"
          ],
          "name": "stdout"
        }
      ]
    },
    {
      "cell_type": "markdown",
      "metadata": {
        "id": "PAH4LoQWA_gM"
      },
      "source": [
        "# Q3. You have a test string s. Your task is to match the pattern XXxXXxXX. Here, x denotes whitespace characters, and X denotes non-white space characters."
      ]
    },
    {
      "cell_type": "code",
      "metadata": {
        "colab": {
          "base_uri": "https://localhost:8080/"
        },
        "id": "JCWWs2Q9A_gN",
        "outputId": "91708d4e-8b30-416d-841e-59f5a21ba6ce"
      },
      "source": [
        "Regex_Pattern = r\"(\\S{2}\\s){2}\\S{2}\"\n",
        "\n",
        "import re\n",
        "\n",
        "print(str(bool(re.search(Regex_Pattern, input()))).lower())"
      ],
      "execution_count": null,
      "outputs": [
        {
          "output_type": "stream",
          "text": [
            "dfa\n",
            "false\n"
          ],
          "name": "stdout"
        }
      ]
    },
    {
      "cell_type": "markdown",
      "metadata": {
        "id": "L528WQeMA_gN"
      },
      "source": [
        "# Q4. You have a test string s . Your task is to match the pattern  xxXxxxxxxxXxx. Here x denotes any word character and  X denotes any non-word character. "
      ]
    },
    {
      "cell_type": "code",
      "metadata": {
        "colab": {
          "base_uri": "https://localhost:8080/"
        },
        "id": "ybBLaDmlA_gO",
        "outputId": "dbb59337-70e2-452b-d506-93f380f34846"
      },
      "source": [
        "Regex_Pattern = r\"\\w{3}\\W\\w{10}\\W\\w{3}\"\n",
        "\n",
        "import re\n",
        "\n",
        "print(str(bool(re.search(Regex_Pattern, input()))).lower())"
      ],
      "execution_count": null,
      "outputs": [
        {
          "output_type": "stream",
          "text": [
            "sdfa\n",
            "false\n"
          ],
          "name": "stdout"
        }
      ]
    },
    {
      "cell_type": "markdown",
      "metadata": {
        "id": "OH51xeeqA_gO"
      },
      "source": [
        "# Q5. You have a test string S. Your task is to match the pattern Xxxxx. Here x  denotes a word character, and X denotes a digit. S  must start with a digit X and end with . symbol. S should be 6 characters long."
      ]
    },
    {
      "cell_type": "code",
      "metadata": {
        "colab": {
          "base_uri": "https://localhost:8080/"
        },
        "id": "VcYB3VlhA_gO",
        "outputId": "6d7f69ae-715d-41b0-b60d-cfd6c780f3b7"
      },
      "source": [
        "Regex_Pattern = r\"^\\d\\w{4}\"\n",
        "\n",
        "import re\n",
        "\n",
        "print(str(bool(re.search(Regex_Pattern, input()))).lower())"
      ],
      "execution_count": null,
      "outputs": [
        {
          "output_type": "stream",
          "text": [
            "\n",
            "false\n"
          ],
          "name": "stdout"
        }
      ]
    },
    {
      "cell_type": "markdown",
      "metadata": {
        "id": "jXAjTZL5A_gP"
      },
      "source": [
        "# Q6.You have a test string S. Your task is to write a regex that will match S with following conditions:\n",
        "## S must be of length: 6\n",
        "## First character: 1, 2 or 3\n",
        "## Second character: 1, 2 or 0\n",
        "## Third character: x, s or 0\n",
        "## Fourth character: 3, 0 , A or a\n",
        "## Fifth character: x, s or u\n",
        "## Sixth character: . or ,\n"
      ]
    },
    {
      "cell_type": "code",
      "metadata": {
        "colab": {
          "base_uri": "https://localhost:8080/"
        },
        "id": "gZEPb0bhA_gP",
        "outputId": "319cc520-d009-49d0-d2e3-cac3e1f2d22c"
      },
      "source": [
        "Regex_Pattern = r'^[123]{1}[120]{1}[xs0]{1}[30Aa]{1}[xsu]{1}[\\.\\,]{1}$'\n",
        "\n",
        "import re\n",
        "\n",
        "print(str(bool(re.search(Regex_Pattern, input()))).lower())\n",
        "\n",
        "#1203x."
      ],
      "execution_count": null,
      "outputs": [
        {
          "output_type": "stream",
          "text": [
            "dfas\n",
            "false\n"
          ],
          "name": "stdout"
        }
      ]
    },
    {
      "cell_type": "markdown",
      "metadata": {
        "id": "Q77SUqGKA_gQ"
      },
      "source": [
        " # Q7. You have a test string S. Your task is to write a regex that will match  with the following conditions:\n",
        "\n",
        "### S must be of length 6.\n",
        "### First character should not be a digit (0-9  ).\n",
        "### Second character should not be a lowercase vowel ( a,e,i,o,u  ).\n",
        "### Third character should not be b, c, D or F.\n",
        "### Fourth character should not be a whitespace character ( \\r, \\n, \\t, \\f or space).\n",
        "### Fifth character should not be a uppercase vowel ( A,E,I,O,U  ).\n",
        "### Sixth character should not be a . or , symbol."
      ]
    },
    {
      "cell_type": "code",
      "metadata": {
        "colab": {
          "base_uri": "https://localhost:8080/"
        },
        "id": "Zdh_5VilA_gQ",
        "outputId": "3e9c999e-10cb-4dd8-977b-af595687088f"
      },
      "source": [
        "Regex_Pattern = r'^[^0-9]{1}[^aeiou]{1}[^bcDF]{1}[^\\s]{1}[^AEIOU]{1}[^\\.,]{1}'\n",
        "\n",
        "import re\n",
        "\n",
        "print(str(bool(re.search(Regex_Pattern, input()))).lower())\n",
        "\n",
        "#think?"
      ],
      "execution_count": null,
      "outputs": [
        {
          "output_type": "stream",
          "text": [
            "dfs\n",
            "false\n"
          ],
          "name": "stdout"
        }
      ]
    },
    {
      "cell_type": "markdown",
      "metadata": {
        "id": "Jh8aOJAKA_gR"
      },
      "source": [
        "# Q8. Write a RegEx that will match a string satisfying the following conditions:\n",
        "\n",
        "## The string's length is .\n",
        "## The first character must be a lowercase English alphabetic character.\n",
        "## The second character must be a positive digit. Note that we consider zero to be neither positive nor negative.\n",
        "## The third character must not be a lowercase English alphabetic character.\n",
        "## The fourth character must not be an uppercase English alphabetic character.\n",
        "## The fifth character must be an uppercase English alphabetic character.\n"
      ]
    },
    {
      "cell_type": "code",
      "metadata": {
        "scrolled": true,
        "colab": {
          "base_uri": "https://localhost:8080/"
        },
        "id": "LAvZFF-xA_gR",
        "outputId": "54bffd09-c319-4545-b234-ae348549b129"
      },
      "source": [
        "Regex_Pattern = r'^[a-z]{1}[1-9]{1}[^a-z]{1}[^A-Z]{1}[A-Z]'\t# Do not delete 'r'.\n",
        "\n",
        "import re\n",
        "\n",
        "print(str(bool(re.search(Regex_Pattern, input()))).lower())\n",
        "\n",
        "#h4CkR"
      ],
      "execution_count": null,
      "outputs": [
        {
          "output_type": "stream",
          "text": [
            "fd\n",
            "false\n"
          ],
          "name": "stdout"
        }
      ]
    },
    {
      "cell_type": "markdown",
      "metadata": {
        "id": "4O0ZVU2RA_gR"
      },
      "source": [
        "# Q9. You have a test string S. Your task is to write a regex that will match S using the following conditions:\n",
        "## S must be of length equal to 45.\n",
        "## The first 40 characters should consist of letters(both lowercase and uppercase), or of even digits.\n",
        "## The last 5 characters should consist of odd digits or whitespace characters.\n"
      ]
    },
    {
      "cell_type": "code",
      "metadata": {
        "colab": {
          "base_uri": "https://localhost:8080/"
        },
        "id": "6wuRmzCDA_gS",
        "outputId": "b17bc882-fe94-4a7e-acbf-7f52d8e16876"
      },
      "source": [
        "#  https://www.hackerrank.com/challenges/matching-x-repetitions/problem\n",
        "\n",
        "import re\n",
        "print(str(bool(re.search(Regex_Pattern, input()))).lower())\n",
        "\n",
        "Regex_Pattern = r'^[A-Za-z02468]{40}[\\s13579]{5}$'\n",
        "\n",
        "#2222222222aaaaaaaaaa2222222222aaaaaaaaaa13 57\n"
      ],
      "execution_count": null,
      "outputs": [
        {
          "output_type": "stream",
          "text": [
            "df\n",
            "false\n"
          ],
          "name": "stdout"
        }
      ]
    },
    {
      "cell_type": "markdown",
      "metadata": {
        "id": "YZ9_aJMHA_gS"
      },
      "source": [
        "# Q10. You have a test string S. Your task is to write a regex that will match S using the following conditions:\n",
        "\n",
        "## S should begin with 1 or 2 digits.\n",
        "## After that,  S should have 3 or more letters (both lowercase and uppercase).\n",
        "## Then S should end with up to  3. symbol(s). You can end with 0 to 3 . symbol(s), inclusively."
      ]
    },
    {
      "cell_type": "code",
      "metadata": {
        "colab": {
          "base_uri": "https://localhost:8080/"
        },
        "id": "UqYgaq04A_gS",
        "outputId": "9bd92f9b-c104-48b8-9994-625391d739a9"
      },
      "source": [
        "Regex_Pattern = r'^\\d{1,2}[a-zA-Z]{3,}\\.{0,3}$'\n",
        "\n",
        "import re\n",
        "\n",
        "print(str(bool(re.search(Regex_Pattern, input()))).lower())\n",
        "\n",
        "#3threeormorealphabets."
      ],
      "execution_count": null,
      "outputs": [
        {
          "output_type": "stream",
          "text": [
            "sd\n",
            "false\n"
          ],
          "name": "stdout"
        }
      ]
    },
    {
      "cell_type": "markdown",
      "metadata": {
        "id": "_9DoNibzA_gT"
      },
      "source": [
        "# Q11. You have a test string S.Your task is to write a regex that will match S using the following conditions:\n",
        "\n",
        "## S should begin with 2 or more digits.\n",
        "## After that, S should have 0 or more lowercase letters.\n",
        "## S should end with 0 or more uppercase letters"
      ]
    },
    {
      "cell_type": "code",
      "metadata": {
        "colab": {
          "base_uri": "https://localhost:8080/"
        },
        "id": "uSPyhH4lA_gT",
        "outputId": "79eebd96-f0d1-437d-9da0-03599ca5b7a7"
      },
      "source": [
        "# https://www.hackerrank.com/challenges/matching-zero-or-more-repetitions/problem?h_r=next-challenge&h_v=zen\n",
        "Regex_Pattern = r'^\\d{2,}[a-z]*[A-Z]*$'\t# Do not delete 'r'.\n",
        "\n",
        "import re\n",
        "\n",
        "print(str(bool(re.search(Regex_Pattern, input()))).lower())"
      ],
      "execution_count": null,
      "outputs": [
        {
          "output_type": "stream",
          "text": [
            "sd\n",
            "false\n"
          ],
          "name": "stdout"
        }
      ]
    },
    {
      "cell_type": "markdown",
      "metadata": {
        "id": "4eB--O5yA_gT"
      },
      "source": [
        "# Q12. You have a test string S. Your task is to write a regex that will match  using the following conditions:\n",
        "\n",
        "## S should begin with 1 or more digits.\n",
        "## After that, S should have 1 or more uppercase letters.\n",
        "## S should end with 1 or more lowercase letters.\n"
      ]
    },
    {
      "cell_type": "code",
      "metadata": {
        "colab": {
          "base_uri": "https://localhost:8080/"
        },
        "id": "aAUvV61lA_gU",
        "outputId": "9e033609-e5c4-4349-c8c8-848ea522c396"
      },
      "source": [
        "# https://www.hackerrank.com/challenges/matching-one-or-more-repititions/problem?h_r=next-challenge&h_v=zen&h_r=next-challenge&h_v=zen\n",
        "\n",
        "Regex_Pattern = r'^\\d+[A-Z]+[a-z]$'\t# Do not delete 'r'.\n",
        "\n",
        "import re\n",
        "\n",
        "print(str(bool(re.search(Regex_Pattern, input()))).lower())\n",
        "\n",
        "#1Qa"
      ],
      "execution_count": null,
      "outputs": [
        {
          "output_type": "stream",
          "text": [
            "sd\n",
            "false\n"
          ],
          "name": "stdout"
        }
      ]
    },
    {
      "cell_type": "markdown",
      "metadata": {
        "id": "PGGu3pCQA_gV"
      },
      "source": [
        "# Q13. Write a RegEx to match a test string, , under the following conditions:\n",
        "\n",
        "## S should consist of only lowercase and uppercase letters (no numbers or symbols).\n",
        "## S should end in s."
      ]
    },
    {
      "cell_type": "code",
      "metadata": {
        "colab": {
          "base_uri": "https://localhost:8080/"
        },
        "id": "lD2j0UcSA_gV",
        "outputId": "8a5ceb5d-2568-4b1f-b411-9c067cd52a84"
      },
      "source": [
        "#https://www.hackerrank.com/challenges/matching-ending-items/problem?h_r=next-challenge&h_v=zen&h_r=next-challenge&h_v=zen&h_r=next-challenge&h_v=zen\n",
        "Regex_Pattern = r'^[a-zA-Z]*s$'\t# Do not delete 'r'.\n",
        "\n",
        "import re\n",
        "\n",
        "print(str(bool(re.search(Regex_Pattern, input()))).lower())\n",
        "\n",
        "#Kites"
      ],
      "execution_count": null,
      "outputs": [
        {
          "output_type": "stream",
          "text": [
            "sd\n",
            "false\n"
          ],
          "name": "stdout"
        }
      ]
    },
    {
      "cell_type": "markdown",
      "metadata": {
        "id": "cX5aaITVA_gV"
      },
      "source": [
        "# Q14. You have a test String S. Your task is to write a regex which will match S with the following condition:\n",
        "## S should have 3 or more consecutive repetitions of ok."
      ]
    },
    {
      "cell_type": "code",
      "metadata": {
        "colab": {
          "base_uri": "https://localhost:8080/"
        },
        "id": "T1lbBPSQA_gW",
        "outputId": "fc174f83-1bba-4a35-f330-7740328bed31"
      },
      "source": [
        "Regex_Pattern = r'[okokok]'\n",
        "\n",
        "import re\n",
        "\n",
        "print(str(bool(re.search(Regex_Pattern, input()))).lower())"
      ],
      "execution_count": null,
      "outputs": [
        {
          "output_type": "stream",
          "text": [
            "sd\n",
            "false\n"
          ],
          "name": "stdout"
        }
      ]
    },
    {
      "cell_type": "markdown",
      "metadata": {
        "id": "bUDfVcAJA_gW"
      },
      "source": [
        "# Q15. Given a test string,s , write a RegEx that matches s under the following conditions:\n",
        "\n",
        "## s must start with Mr., Mrs., Ms., Dr. or Er..\n",
        "## The rest of the string must contain only one or more English alphabetic letters (upper and lowercase)."
      ]
    },
    {
      "cell_type": "code",
      "metadata": {
        "colab": {
          "base_uri": "https://localhost:8080/"
        },
        "id": "2igpmI7lA_gW",
        "outputId": "875cc6b2-5c2e-40d8-ad19-6422182cf627"
      },
      "source": [
        "Regex_Pattern = r'^(Mr|Mrs|Ms|Dr|Er)[.][a-zA-Z]+'\n",
        "\n",
        "import re\n",
        "\n",
        "print(str(bool(re.search(Regex_Pattern, input()))).lower())\n",
        "\n",
        "\n",
        "# @ test cases fauled\n"
      ],
      "execution_count": null,
      "outputs": [
        {
          "output_type": "stream",
          "text": [
            "d\n",
            "false\n"
          ],
          "name": "stdout"
        }
      ]
    },
    {
      "cell_type": "markdown",
      "metadata": {
        "id": "6kGsgdzoA_gX"
      },
      "source": [
        "# Q16. You have a test String S. Your task is to write a regex which will match word starting with vowel (a,e,i,o, u, A, E, I , O or U).\n",
        "## The matched word can be of any length. The matched word should consist of letters (lowercase and uppercase both) only.\n",
        "## The matched word must start and end with a word boundary."
      ]
    },
    {
      "cell_type": "code",
      "metadata": {
        "colab": {
          "base_uri": "https://localhost:8080/"
        },
        "id": "isaFLl2KA_gX",
        "outputId": "b147c288-327a-4191-de0a-ae47774a355f"
      },
      "source": [
        "Regex_Pattern = r''\t# Do not delete 'r'.\n",
        "\n",
        "import re\n",
        "\n",
        "print(str(bool(re.search(Regex_Pattern, input()))).lower())"
      ],
      "execution_count": null,
      "outputs": [
        {
          "output_type": "stream",
          "text": [
            "f\n",
            "true\n"
          ],
          "name": "stdout"
        }
      ]
    },
    {
      "cell_type": "markdown",
      "metadata": {
        "id": "2VhEF_XeA_gX"
      },
      "source": [
        "# Q17. You have a test string S. Your task is to write a regex that will match S with the following conditions:\n",
        "\n",
        " ## S must be of length: 20\n",
        " ## 1st character: lowercase letter.\n",
        " ## 2nd character: word character.\n",
        " ## 3rd character: whitespace character.\n",
        " ## 4th character: non word character.\n",
        " ## 5th character: digit.\n",
        " ## 6th character: non digit.\n",
        " ## 7th character: uppercase letter.\n",
        " ## 8th character: letter (either lowercase or uppercase).\n",
        " ## 9th character: vowel (a, e, i , o , u, A, E, I, O or U).\n",
        " ## 10th character: non whitespace character.\n",
        " ## 11th character: should be same as 1st character.\n",
        " ## 12th character: should be same as 2nd character.\n",
        " ## 13th character: should be same as 3rd character.\n",
        " ## 14th character: should be same as 4th character.\n",
        " ## 15th character: should be same as 5th character.\n",
        " ## 16th character: should be same as 6th character.\n",
        "## 17th character: should be same as 7th character.\n",
        "## 18th character: should be same as 8th character.\n",
        "## 19th character: should be same as 9th character.\n",
        "## 20th character: should be same as 10th character."
      ]
    },
    {
      "cell_type": "code",
      "metadata": {
        "colab": {
          "base_uri": "https://localhost:8080/"
        },
        "id": "gwhT5FC6A_gY",
        "outputId": "5554a39f-1b19-4c7e-d1c7-30a08422fed4"
      },
      "source": [
        "Regex_Pattern = r'([a-z]\\w\\s\\W\\d\\D[A-Z][a-zA-Z][aeiouAEIOU]\\S)\\1'\n",
        "\n",
        "import re\n",
        "\n",
        "print(str(bool(re.search(Regex_Pattern, input()))).lower())\n",
        "#ab #1?AZa$ab #1?AZa$\n",
        "#https://www.hackerrank.com/challenges/matching-same-text-again-again/problem"
      ],
      "execution_count": null,
      "outputs": [
        {
          "output_type": "stream",
          "text": [
            "f\n",
            "false\n"
          ],
          "name": "stdout"
        }
      ]
    },
    {
      "cell_type": "markdown",
      "metadata": {
        "id": "wPkIwN1IA_gY"
      },
      "source": [
        "# Q18. You have a test string S. Your task is to write a regex which will match S, with following condition(s):\n",
        "\n",
        "## Sconsists of 8 digits.\n",
        "## S may have \"-\" separator such that string S gets divided in 4 parts, with each part having exactly two digits. (Eg. 12-34-56-78)"
      ]
    },
    {
      "cell_type": "code",
      "metadata": {
        "colab": {
          "base_uri": "https://localhost:8080/"
        },
        "id": "8bu5c8HsA_gY",
        "outputId": "70262e52-90a9-4c69-e12e-2b8f74fef160"
      },
      "source": [
        "Regex_Pattern = r\"^\\d{8}|^(\\d{2}-){3}(\\d{2})$\"\t# Do not delete 'r'.\n",
        "\n",
        "import re\n",
        "\n",
        "print(str(bool(re.search(Regex_Pattern, input()))).lower())\n",
        "\n",
        "# https://www.hackerrank.com/challenges/backreferences-to-failed-groups/problem"
      ],
      "execution_count": null,
      "outputs": [
        {
          "output_type": "stream",
          "text": [
            "f\n",
            "false\n"
          ],
          "name": "stdout"
        }
      ]
    },
    {
      "cell_type": "markdown",
      "metadata": {
        "id": "0SUKO5v_A_gZ"
      },
      "source": [
        "# Q19. You have a test string S.Write a regex that can match all occurrences of o followed immediately by oo in S."
      ]
    },
    {
      "cell_type": "code",
      "metadata": {
        "colab": {
          "base_uri": "https://localhost:8080/"
        },
        "id": "UBf2wqOyA_gZ",
        "outputId": "1733e5ee-4453-4201-8407-24801dcb18bc"
      },
      "source": [
        "Regex_Pattern = r'o(?=oo)'\t# Do not delete 'r'.\n",
        "\n",
        "import re\n",
        "\n",
        "Test_String = input()\n",
        "\n",
        "match = re.findall(Regex_Pattern, Test_String)\n",
        "\n",
        "print(\"Number of matches :\", len(match))\n",
        "      \n",
        "# gooooo!\n",
        "# https://www.hackerrank.com/challenges/positive-lookahead/problem\n",
        "    "
      ],
      "execution_count": null,
      "outputs": [
        {
          "output_type": "stream",
          "text": [
            "f\n",
            "Number of matches : 0\n"
          ],
          "name": "stdout"
        }
      ]
    },
    {
      "cell_type": "markdown",
      "metadata": {
        "id": "dFn6yF2cA_gZ"
      },
      "source": [
        "# Q 20. You have a test String S.Write a regex which can match all characters which are not immediately followed by that same character.\n",
        "\n",
        "### Example If S = goooo, then regex should match goooo. Because the first g is not follwed by g and the last o is not followed by o.\n",
        "\n"
      ]
    },
    {
      "cell_type": "code",
      "metadata": {
        "colab": {
          "base_uri": "https://localhost:8080/"
        },
        "id": "yaP0lbtQA_ga",
        "outputId": "e6662377-e367-46a0-beb1-a67438767d66"
      },
      "source": [
        "#gooooo\n",
        "# https://www.hackerrank.com/challenges/negative-lookahead/problem?h_r=next-challenge&h_v=zen\n",
        "\n",
        "\n",
        "Regex_Pattern = r\"(.)(?!\\1)\"\n",
        "\n",
        "import re\n",
        "\n",
        "Test_String = input()\n",
        "\n",
        "match = re.findall(Regex_Pattern, Test_String)\n",
        "\n",
        "print(\"Number of matches :\", len(match))"
      ],
      "execution_count": null,
      "outputs": [
        {
          "output_type": "stream",
          "text": [
            "f\n",
            "Number of matches : 1\n"
          ],
          "name": "stdout"
        }
      ]
    },
    {
      "cell_type": "markdown",
      "metadata": {
        "id": "p8C5DzrrA_ga"
      },
      "source": [
        "# Q 21. You have a test String S . Write a regex which can match all the occurences of digit which are immediately preceded by odd digit."
      ]
    },
    {
      "cell_type": "code",
      "metadata": {
        "colab": {
          "base_uri": "https://localhost:8080/"
        },
        "id": "OFYdkZy0A_ga",
        "outputId": "0933d714-b320-463a-ef72-e72772a6d565"
      },
      "source": [
        "#123Go!\n",
        "# https://www.hackerrank.com/challenges/positive-lookbehind/problem?h_r=next-challenge&h_v=zen&h_r=next-challenge&h_v=zen\n",
        "\n",
        "Regex_Pattern = r\"(?<=[13579])[0-9]\"\n",
        "\n",
        "import re\n",
        "\n",
        "Test_String = input()\n",
        "\n",
        "match = re.findall(Regex_Pattern, Test_String)\n",
        "\n",
        "print(\"Number of matches :\", len(match))"
      ],
      "execution_count": null,
      "outputs": [
        {
          "output_type": "stream",
          "text": [
            "f\n",
            "Number of matches : 0\n"
          ],
          "name": "stdout"
        }
      ]
    },
    {
      "cell_type": "markdown",
      "metadata": {
        "id": "jzQWwuYTA_ga"
      },
      "source": [
        "# Q 22. You have a test String S. Write a regex which can match all the occurences of characters which are not immediately preceded by vowels (a, e, i, u, o, A, E, I, O, U)."
      ]
    },
    {
      "cell_type": "code",
      "metadata": {
        "colab": {
          "base_uri": "https://localhost:8080/"
        },
        "id": "uCbTh8vjA_gb",
        "outputId": "e67cac9b-4016-4b90-caac-d3ad42d80ecf"
      },
      "source": [
        "# https://www.hackerrank.com/challenges/negative-lookbehind/problem?h_r=next-challenge&h_v=zen&h_r=next-challenge&h_v=zen&h_r=next-challenge&h_v=zen\n",
        "# 1o1s\n",
        "Regex_Pattern = r\"(?<![AEIOUaeiou]).\"\n",
        "# Regex_Pattern = r\"(?i)(?<![AEIOUaeiou]).\"\n",
        "#?i is used for case insensetive\n",
        "\n",
        "import re\n",
        "\n",
        "Test_String = input()\n",
        "\n",
        "match = re.findall(Regex_Pattern, Test_String)\n",
        "\n",
        "print(\"Number of matches :\", len(match))"
      ],
      "execution_count": null,
      "outputs": [
        {
          "output_type": "stream",
          "text": [
            "f\n",
            "Number of matches : 1\n"
          ],
          "name": "stdout"
        }
      ]
    },
    {
      "cell_type": "code",
      "metadata": {
        "id": "iUXFbzUFA_gb"
      },
      "source": [
        ""
      ],
      "execution_count": null,
      "outputs": []
    }
  ]
}